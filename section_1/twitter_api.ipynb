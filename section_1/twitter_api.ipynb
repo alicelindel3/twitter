{
  "nbformat": 4,
  "nbformat_minor": 0,
  "metadata": {
    "colab": {
      "name": "twitter_api.ipynb",
      "provenance": [],
      "collapsed_sections": [],
      "include_colab_link": true
    },
    "kernelspec": {
      "name": "python3",
      "display_name": "Python 3"
    }
  },
  "cells": [
    {
      "cell_type": "markdown",
      "metadata": {
        "id": "view-in-github",
        "colab_type": "text"
      },
      "source": [
        "<a href=\"https://colab.research.google.com/github/alicelindel3/twitter/blob/main/section_1/twitter_api.ipynb\" target=\"_parent\"><img src=\"https://colab.research.google.com/assets/colab-badge.svg\" alt=\"Open In Colab\"/></a>"
      ]
    },
    {
      "cell_type": "markdown",
      "metadata": {
        "id": "V-8DWi_E5SIN"
      },
      "source": [
        "# Twitter APIの使用\n",
        "PythonのライブラリTweepyを使って、タイムラインへの投稿およびツイートの取得を行います。"
      ]
    },
    {
      "cell_type": "markdown",
      "metadata": {
        "id": "2yR970ft5_0N"
      },
      "source": [
        "##  Tweepyを確認\n",
        "Colab環境でTweepyが利用可能なことを確認しましょう。"
      ]
    },
    {
      "cell_type": "code",
      "metadata": {
        "id": "PAhR64orpKM4",
        "cellView": "both"
      },
      "source": [
        "!pip list"
      ],
      "execution_count": null,
      "outputs": []
    },
    {
      "cell_type": "markdown",
      "metadata": {
        "id": "kAYcGCpVeRIW"
      },
      "source": [
        "## APIのkey\n",
        "Twitter Developer PlatformからAPI Key & SecretおよびAccess Token & Secretを取得し、以下のセルの変数に設定します。\n",
        "```\n",
        "api_key =\"API key\"\n",
        "api_key_secret =\"API key secret\"\n",
        "access_token=\"Access token\"\n",
        "access_token_secret =\"Access token secret\"\n",
        "``` "
      ]
    },
    {
      "cell_type": "code",
      "metadata": {
        "id": "YU2eD2eEeVl2"
      },
      "source": [
        "api_key = \"\"\n",
        "api_key_secret = \"\"\n",
        "access_token= \"\"\n",
        "access_token_secret = \"\""
      ],
      "execution_count": null,
      "outputs": []
    },
    {
      "cell_type": "markdown",
      "metadata": {
        "id": "Wi6S4e5gkXAA"
      },
      "source": [
        "## APIの設定\n",
        "Tweepyを利用し、OAuth認証にアクセストークンを設定します。  \n",
        "その上で、Twitterとやり取りするためのAPIを設定します。"
      ]
    },
    {
      "cell_type": "code",
      "metadata": {
        "id": "gpm1fb6nkV5_"
      },
      "source": [
        "import tweepy\n",
        "\n",
        "auth = tweepy.OAuthHandler(api_key, api_key_secret)\n",
        "auth.set_access_token(access_token, access_token_secret)\n",
        "api = tweepy.API(auth)"
      ],
      "execution_count": null,
      "outputs": []
    },
    {
      "cell_type": "markdown",
      "metadata": {
        "id": "1FgYM8gD9mMi"
      },
      "source": [
        "## タイムラインへの投稿\n",
        "`update_status()`によりタイムラインに投稿します。  \n",
        "http://docs.tweepy.org/en/latest/api.html#API.update_status  \n",
        "短期間に同一の内容を投稿するとブロックされるので注意しましょう。\n",
        "\n"
      ]
    },
    {
      "cell_type": "code",
      "metadata": {
        "id": "HSwbQoBZ0xYL"
      },
      "source": [
        "print(\"文章を入力してください。\")\n",
        "text = input()  # ユーザーの入力を取得\n",
        "api.update_status(text)"
      ],
      "execution_count": null,
      "outputs": []
    },
    {
      "cell_type": "markdown",
      "metadata": {
        "id": "ITNwljhs96mY"
      },
      "source": [
        "## Tweetの取得\n",
        "`user_timeline()`によりタイムラインのツイートを取得します。  \n",
        "https://kurozumi.github.io/tweepy/api.html#API.user_timeline"
      ]
    },
    {
      "cell_type": "code",
      "metadata": {
        "id": "EhQbqjYo-BBQ"
      },
      "source": [
        "user_id = \"live_ai_exp\"\n",
        "tweets = api.user_timeline(user_id, count=3)\n",
        "for tweet in tweets:\n",
        "    print(\"id: \", tweet.id)\n",
        "    print(\"user: \", tweet.user.screen_name)\n",
        "    print(\"date: \", tweet.created_at)\n",
        "    print(\"text: \", tweet.text)\n",
        "    print(\"fav: \", tweet.favorite_count)\n",
        "    print(\"ret: \", tweet.retweet_count)\n",
        "    print(\"-----------------------------------------------\")"
      ],
      "execution_count": null,
      "outputs": []
    }
  ]
}